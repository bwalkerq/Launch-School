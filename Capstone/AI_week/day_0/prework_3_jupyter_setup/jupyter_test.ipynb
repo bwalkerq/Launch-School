{
 "cells": [
  {
   "cell_type": "code",
   "execution_count": 2,
   "id": "9b953a08",
   "metadata": {},
   "outputs": [
    {
     "name": "stdout",
     "output_type": "stream",
     "text": [
      "YAY!\n"
     ]
    }
   ],
   "source": [
    "import openai\n",
    "print('YAY!')"
   ]
  }
 ],
 "metadata": {
  "kernelspec": {
   "display_name": "prework-3-jupyter-setup-py3.13",
   "language": "python",
   "name": "python3"
  },
  "language_info": {
   "codemirror_mode": {
    "name": "ipython",
    "version": 3
   },
   "file_extension": ".py",
   "mimetype": "text/x-python",
   "name": "python",
   "nbconvert_exporter": "python",
   "pygments_lexer": "ipython3",
   "version": "3.13.7"
  }
 },
 "nbformat": 4,
 "nbformat_minor": 5
}
